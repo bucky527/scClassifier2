{
    "cells": [
        {
            "cell_type": "markdown",
            "metadata": {},
            "source": [
                "# Demo: PBMC68k dataset\n",
                "\n",
                "The demo shows the usage of scClassifier2.\n",
                "\n",
                "The PBMC68k dataset can be downloaded from the 10x Genomics website."
            ]
        },
        {
            "cell_type": "markdown",
            "metadata": {},
            "source": [
                "## Train scClassifier2\n",
                "\n",
                "The PBMC68k dataset is divided into two the train subset and the test subset. Run scClassifier2 on the training data to get the classification model."
            ]
        },
        {
            "cell_type": "markdown",
            "metadata": {},
            "source": [
                "The command to run the training process is as follows.\n",
                "\n",
                "``` shell\n",
                "python scClassifier2.py --sup-data-file /DATA2/Project/MICE_evaluation/data/PBMC68k/pbmc68k_dataset_roc_train.mtx \\\n",
                "                        --sup-label-file /DATA2/Project/MICE_evaluation/data/PBMC68k/pbmc68k_dataset_label_text_roc_train.txt \\\n",
                "                        -lr 0.0001 \\\n",
                "                        -n 30 \\\n",
                "                        -bs 100 \\\n",
                "                        --aux-loss \\\n",
                "                        --cross-validation-fold 10 \\\n",
                "                        --cuda \\\n",
                "                        --runtime \\\n",
                "                        --jit \\\n",
                "                        --best-valid-model pbmc68k_model.pth                 \n",
                "```"
            ]
        },
        {
            "cell_type": "markdown",
            "metadata": {},
            "source": [
                "## Test scClassifier2"
            ]
        },
        {
            "cell_type": "code",
            "execution_count": 1,
            "metadata": {},
            "outputs": [],
            "source": [
                "%matplotlib inline\n",
                "import matplotlib.pyplot as plt\n",
                "plt.rcParams[\"figure.figsize\"] = (20, 10)\n",
                "\n",
                "\n",
                "import numpy as np\n",
                "import pandas as pd\n",
                "from sklearn.metrics import accuracy_score, ConfusionMatrixDisplay\n",
                "\n",
                "from scClassifier2 import scClassifier2\n",
                "from utils.scdata_cached import SingleCellCached\n",
                "\n",
                "import torch\n",
                "from torch.utils.data import DataLoader"
            ]
        },
        {
            "cell_type": "markdown",
            "metadata": {},
            "source": [
                "## Load model and test datset"
            ]
        },
        {
            "cell_type": "code",
            "execution_count": 2,
            "metadata": {},
            "outputs": [],
            "source": [
                "ModelPath = 'pbmc68k_model.pth'\n",
                "DataPath='/DATA2/Project/MICE_evaluation/data/PBMC68k/pbmc68k_dataset_roc_test.mtx'\n",
                "LabelPath='/DATA2/Project/MICE_evaluation/data/PBMC68k/pbmc68k_dataset_label_text_roc_test.txt'"
            ]
        },
        {
            "cell_type": "code",
            "execution_count": 3,
            "metadata": {},
            "outputs": [],
            "source": [
                "# load model\n",
                "model = torch.load(ModelPath)"
            ]
        },
        {
            "cell_type": "code",
            "execution_count": 4,
            "metadata": {},
            "outputs": [],
            "source": [
                "# load data\n",
                "batch_size = 100\n",
                "\n",
                "# Apply log-transformation on data or not.\n",
                "# If count data is provided, log-transformation\n",
                "# should be used. \n",
                "log_trans = False\n",
                "\n",
                "# Put data on cuda or not.\n",
                "use_cuda = True\n",
                "\n",
                "# Randomly permute data or not.\n",
                "shuffle = False\n",
                "\n",
                "label_encoder = model.label2class\n",
                "data_cached = SingleCellCached(DataPath, LabelPath, label_encoder, 'roc', log_trans = log_trans, use_cuda = use_cuda)\n",
                "data_loader = DataLoader(data_cached, batch_size = batch_size, shuffle = shuffle)\n"
            ]
        },
        {
            "cell_type": "markdown",
            "metadata": {},
            "source": [
                "## Run prediction on the test data"
            ]
        },
        {
            "cell_type": "code",
            "execution_count": 5,
            "metadata": {},
            "outputs": [],
            "source": [
                "# predict\n",
                "predictions, scores, actuals = [], [], []\n",
                "\n",
                "# use the appropriate data loader\n",
                "for (xs, ys) in data_loader:\n",
                "    # use classification function to compute all predictions for each batch\n",
                "    yhats, yscores = model.classifier_with_probability(xs)\n",
                "    scores.append(yscores)\n",
                "\n",
                "    _, yhats = torch.topk(yhats, 1)\n",
                "    yhats = model.convert_to_label(yhats)\n",
                "    predictions.append(yhats)\n",
                "\n",
                "    _, ys = torch.topk(ys, 1)\n",
                "    ys = model.convert_to_label(ys)\n",
                "    actuals.append(ys)\n",
                "\n",
                "predictions = np.concatenate(predictions, 0)\n",
                "scores = torch.cat(scores, dim=0).cpu().detach().numpy()\n",
                "actuals = np.concatenate(actuals, 0)"
            ]
        },
        {
            "cell_type": "markdown",
            "metadata": {},
            "source": [
                "Save the classification scores for plotting ROC curves."
            ]
        },
        {
            "cell_type": "code",
            "execution_count": 6,
            "metadata": {},
            "outputs": [],
            "source": [
                "scores = pd.DataFrame(scores)\n",
                "scores.columns = model.convert_to_label(torch.from_numpy(np.arange(model.output_size)))\n",
                "\n",
                "scores['True'] = actuals\n",
                "scores['Pred'] = predictions"
            ]
        },
        {
            "cell_type": "code",
            "execution_count": 7,
            "metadata": {},
            "outputs": [
                {
                    "data": {
                        "text/html": [
                            "<div>\n",
                            "<style scoped>\n",
                            "    .dataframe tbody tr th:only-of-type {\n",
                            "        vertical-align: middle;\n",
                            "    }\n",
                            "\n",
                            "    .dataframe tbody tr th {\n",
                            "        vertical-align: top;\n",
                            "    }\n",
                            "\n",
                            "    .dataframe thead th {\n",
                            "        text-align: right;\n",
                            "    }\n",
                            "</style>\n",
                            "<table border=\"1\" class=\"dataframe\">\n",
                            "  <thead>\n",
                            "    <tr style=\"text-align: right;\">\n",
                            "      <th></th>\n",
                            "      <th>CD14+ Monocyte</th>\n",
                            "      <th>CD19+ B</th>\n",
                            "      <th>CD34+</th>\n",
                            "      <th>CD4+ T Helper2</th>\n",
                            "      <th>CD4+/CD25 T Reg</th>\n",
                            "      <th>CD4+/CD45RA+/CD25- Naive T</th>\n",
                            "      <th>CD4+/CD45RO+ Memory</th>\n",
                            "      <th>CD56+ NK</th>\n",
                            "      <th>CD8+ Cytotoxic T</th>\n",
                            "      <th>CD8+/CD45RA+ Naive Cytotoxic</th>\n",
                            "      <th>Dendritic</th>\n",
                            "      <th>True</th>\n",
                            "      <th>Pred</th>\n",
                            "    </tr>\n",
                            "  </thead>\n",
                            "  <tbody>\n",
                            "    <tr>\n",
                            "      <th>0</th>\n",
                            "      <td>1.440956e-15</td>\n",
                            "      <td>4.124883e-15</td>\n",
                            "      <td>4.928924e-12</td>\n",
                            "      <td>1.119431e-06</td>\n",
                            "      <td>1.853160e-06</td>\n",
                            "      <td>5.635591e-09</td>\n",
                            "      <td>1.340757e-02</td>\n",
                            "      <td>2.357817e-08</td>\n",
                            "      <td>9.623362e-01</td>\n",
                            "      <td>2.425318e-02</td>\n",
                            "      <td>7.188880e-12</td>\n",
                            "      <td>CD8+ Cytotoxic T</td>\n",
                            "      <td>CD8+ Cytotoxic T</td>\n",
                            "    </tr>\n",
                            "    <tr>\n",
                            "      <th>1</th>\n",
                            "      <td>2.457121e-15</td>\n",
                            "      <td>4.109367e-11</td>\n",
                            "      <td>1.014722e-13</td>\n",
                            "      <td>7.367043e-12</td>\n",
                            "      <td>1.595733e-11</td>\n",
                            "      <td>1.324306e-07</td>\n",
                            "      <td>3.287981e-14</td>\n",
                            "      <td>5.131664e-21</td>\n",
                            "      <td>3.526704e-09</td>\n",
                            "      <td>9.999999e-01</td>\n",
                            "      <td>5.580277e-11</td>\n",
                            "      <td>CD8+/CD45RA+ Naive Cytotoxic</td>\n",
                            "      <td>CD8+/CD45RA+ Naive Cytotoxic</td>\n",
                            "    </tr>\n",
                            "    <tr>\n",
                            "      <th>2</th>\n",
                            "      <td>2.642756e-20</td>\n",
                            "      <td>1.018128e-19</td>\n",
                            "      <td>6.836291e-15</td>\n",
                            "      <td>2.934076e-09</td>\n",
                            "      <td>2.485034e-15</td>\n",
                            "      <td>2.286355e-13</td>\n",
                            "      <td>6.420543e-08</td>\n",
                            "      <td>2.353857e-06</td>\n",
                            "      <td>9.999850e-01</td>\n",
                            "      <td>1.259038e-05</td>\n",
                            "      <td>1.328911e-14</td>\n",
                            "      <td>CD8+ Cytotoxic T</td>\n",
                            "      <td>CD8+ Cytotoxic T</td>\n",
                            "    </tr>\n",
                            "    <tr>\n",
                            "      <th>3</th>\n",
                            "      <td>4.154542e-06</td>\n",
                            "      <td>6.687131e-06</td>\n",
                            "      <td>1.733673e-05</td>\n",
                            "      <td>2.409457e-04</td>\n",
                            "      <td>9.882890e-02</td>\n",
                            "      <td>1.839479e-02</td>\n",
                            "      <td>2.869002e-03</td>\n",
                            "      <td>2.553523e-07</td>\n",
                            "      <td>1.417879e-03</td>\n",
                            "      <td>8.673096e-01</td>\n",
                            "      <td>1.091046e-02</td>\n",
                            "      <td>CD8+/CD45RA+ Naive Cytotoxic</td>\n",
                            "      <td>CD8+/CD45RA+ Naive Cytotoxic</td>\n",
                            "    </tr>\n",
                            "    <tr>\n",
                            "      <th>4</th>\n",
                            "      <td>3.302217e-08</td>\n",
                            "      <td>9.498194e-07</td>\n",
                            "      <td>1.403170e-07</td>\n",
                            "      <td>8.787499e-06</td>\n",
                            "      <td>1.433785e-02</td>\n",
                            "      <td>6.514722e-02</td>\n",
                            "      <td>6.719754e-05</td>\n",
                            "      <td>3.398274e-11</td>\n",
                            "      <td>9.929788e-05</td>\n",
                            "      <td>9.203360e-01</td>\n",
                            "      <td>2.467924e-06</td>\n",
                            "      <td>CD8+/CD45RA+ Naive Cytotoxic</td>\n",
                            "      <td>CD8+/CD45RA+ Naive Cytotoxic</td>\n",
                            "    </tr>\n",
                            "    <tr>\n",
                            "      <th>...</th>\n",
                            "      <td>...</td>\n",
                            "      <td>...</td>\n",
                            "      <td>...</td>\n",
                            "      <td>...</td>\n",
                            "      <td>...</td>\n",
                            "      <td>...</td>\n",
                            "      <td>...</td>\n",
                            "      <td>...</td>\n",
                            "      <td>...</td>\n",
                            "      <td>...</td>\n",
                            "      <td>...</td>\n",
                            "      <td>...</td>\n",
                            "      <td>...</td>\n",
                            "    </tr>\n",
                            "    <tr>\n",
                            "      <th>6853</th>\n",
                            "      <td>6.573569e-22</td>\n",
                            "      <td>5.094497e-18</td>\n",
                            "      <td>3.324802e-19</td>\n",
                            "      <td>1.243376e-16</td>\n",
                            "      <td>1.412492e-16</td>\n",
                            "      <td>3.074152e-12</td>\n",
                            "      <td>2.109909e-19</td>\n",
                            "      <td>1.984417e-23</td>\n",
                            "      <td>1.014089e-11</td>\n",
                            "      <td>1.000000e+00</td>\n",
                            "      <td>3.917623e-17</td>\n",
                            "      <td>CD8+/CD45RA+ Naive Cytotoxic</td>\n",
                            "      <td>CD8+/CD45RA+ Naive Cytotoxic</td>\n",
                            "    </tr>\n",
                            "    <tr>\n",
                            "      <th>6854</th>\n",
                            "      <td>2.802597e-45</td>\n",
                            "      <td>0.000000e+00</td>\n",
                            "      <td>4.556903e-38</td>\n",
                            "      <td>5.025511e-33</td>\n",
                            "      <td>0.000000e+00</td>\n",
                            "      <td>1.780027e-40</td>\n",
                            "      <td>1.761761e-39</td>\n",
                            "      <td>1.000000e+00</td>\n",
                            "      <td>1.748931e-17</td>\n",
                            "      <td>1.724245e-36</td>\n",
                            "      <td>6.236199e-41</td>\n",
                            "      <td>CD56+ NK</td>\n",
                            "      <td>CD56+ NK</td>\n",
                            "    </tr>\n",
                            "    <tr>\n",
                            "      <th>6855</th>\n",
                            "      <td>2.195927e-15</td>\n",
                            "      <td>2.117143e-14</td>\n",
                            "      <td>2.805948e-13</td>\n",
                            "      <td>2.149205e-06</td>\n",
                            "      <td>1.835680e-03</td>\n",
                            "      <td>1.554952e-12</td>\n",
                            "      <td>6.912190e-02</td>\n",
                            "      <td>9.453889e-11</td>\n",
                            "      <td>9.290341e-01</td>\n",
                            "      <td>6.281846e-06</td>\n",
                            "      <td>1.897661e-10</td>\n",
                            "      <td>CD8+ Cytotoxic T</td>\n",
                            "      <td>CD8+ Cytotoxic T</td>\n",
                            "    </tr>\n",
                            "    <tr>\n",
                            "      <th>6856</th>\n",
                            "      <td>1.399327e-09</td>\n",
                            "      <td>1.677099e-06</td>\n",
                            "      <td>1.104134e-08</td>\n",
                            "      <td>2.220044e-06</td>\n",
                            "      <td>1.848516e-01</td>\n",
                            "      <td>5.751708e-06</td>\n",
                            "      <td>7.479940e-04</td>\n",
                            "      <td>4.175128e-12</td>\n",
                            "      <td>1.175321e-04</td>\n",
                            "      <td>8.142650e-01</td>\n",
                            "      <td>8.262421e-06</td>\n",
                            "      <td>CD8+/CD45RA+ Naive Cytotoxic</td>\n",
                            "      <td>CD8+/CD45RA+ Naive Cytotoxic</td>\n",
                            "    </tr>\n",
                            "    <tr>\n",
                            "      <th>6857</th>\n",
                            "      <td>1.897217e-13</td>\n",
                            "      <td>1.674157e-13</td>\n",
                            "      <td>2.158982e-11</td>\n",
                            "      <td>1.130389e-05</td>\n",
                            "      <td>2.559205e-06</td>\n",
                            "      <td>2.693628e-11</td>\n",
                            "      <td>1.595314e-04</td>\n",
                            "      <td>9.296946e-06</td>\n",
                            "      <td>9.987499e-01</td>\n",
                            "      <td>1.067529e-03</td>\n",
                            "      <td>4.570187e-08</td>\n",
                            "      <td>CD8+ Cytotoxic T</td>\n",
                            "      <td>CD8+ Cytotoxic T</td>\n",
                            "    </tr>\n",
                            "  </tbody>\n",
                            "</table>\n",
                            "<p>6858 rows × 13 columns</p>\n",
                            "</div>"
                        ],
                        "text/plain": [
                            "      CD14+ Monocyte       CD19+ B         CD34+  CD4+ T Helper2  \\\n",
                            "0       1.440956e-15  4.124883e-15  4.928924e-12    1.119431e-06   \n",
                            "1       2.457121e-15  4.109367e-11  1.014722e-13    7.367043e-12   \n",
                            "2       2.642756e-20  1.018128e-19  6.836291e-15    2.934076e-09   \n",
                            "3       4.154542e-06  6.687131e-06  1.733673e-05    2.409457e-04   \n",
                            "4       3.302217e-08  9.498194e-07  1.403170e-07    8.787499e-06   \n",
                            "...              ...           ...           ...             ...   \n",
                            "6853    6.573569e-22  5.094497e-18  3.324802e-19    1.243376e-16   \n",
                            "6854    2.802597e-45  0.000000e+00  4.556903e-38    5.025511e-33   \n",
                            "6855    2.195927e-15  2.117143e-14  2.805948e-13    2.149205e-06   \n",
                            "6856    1.399327e-09  1.677099e-06  1.104134e-08    2.220044e-06   \n",
                            "6857    1.897217e-13  1.674157e-13  2.158982e-11    1.130389e-05   \n",
                            "\n",
                            "      CD4+/CD25 T Reg  CD4+/CD45RA+/CD25- Naive T  CD4+/CD45RO+ Memory  \\\n",
                            "0        1.853160e-06                5.635591e-09         1.340757e-02   \n",
                            "1        1.595733e-11                1.324306e-07         3.287981e-14   \n",
                            "2        2.485034e-15                2.286355e-13         6.420543e-08   \n",
                            "3        9.882890e-02                1.839479e-02         2.869002e-03   \n",
                            "4        1.433785e-02                6.514722e-02         6.719754e-05   \n",
                            "...               ...                         ...                  ...   \n",
                            "6853     1.412492e-16                3.074152e-12         2.109909e-19   \n",
                            "6854     0.000000e+00                1.780027e-40         1.761761e-39   \n",
                            "6855     1.835680e-03                1.554952e-12         6.912190e-02   \n",
                            "6856     1.848516e-01                5.751708e-06         7.479940e-04   \n",
                            "6857     2.559205e-06                2.693628e-11         1.595314e-04   \n",
                            "\n",
                            "          CD56+ NK  CD8+ Cytotoxic T  CD8+/CD45RA+ Naive Cytotoxic  \\\n",
                            "0     2.357817e-08      9.623362e-01                  2.425318e-02   \n",
                            "1     5.131664e-21      3.526704e-09                  9.999999e-01   \n",
                            "2     2.353857e-06      9.999850e-01                  1.259038e-05   \n",
                            "3     2.553523e-07      1.417879e-03                  8.673096e-01   \n",
                            "4     3.398274e-11      9.929788e-05                  9.203360e-01   \n",
                            "...            ...               ...                           ...   \n",
                            "6853  1.984417e-23      1.014089e-11                  1.000000e+00   \n",
                            "6854  1.000000e+00      1.748931e-17                  1.724245e-36   \n",
                            "6855  9.453889e-11      9.290341e-01                  6.281846e-06   \n",
                            "6856  4.175128e-12      1.175321e-04                  8.142650e-01   \n",
                            "6857  9.296946e-06      9.987499e-01                  1.067529e-03   \n",
                            "\n",
                            "         Dendritic                          True                          Pred  \n",
                            "0     7.188880e-12              CD8+ Cytotoxic T              CD8+ Cytotoxic T  \n",
                            "1     5.580277e-11  CD8+/CD45RA+ Naive Cytotoxic  CD8+/CD45RA+ Naive Cytotoxic  \n",
                            "2     1.328911e-14              CD8+ Cytotoxic T              CD8+ Cytotoxic T  \n",
                            "3     1.091046e-02  CD8+/CD45RA+ Naive Cytotoxic  CD8+/CD45RA+ Naive Cytotoxic  \n",
                            "4     2.467924e-06  CD8+/CD45RA+ Naive Cytotoxic  CD8+/CD45RA+ Naive Cytotoxic  \n",
                            "...            ...                           ...                           ...  \n",
                            "6853  3.917623e-17  CD8+/CD45RA+ Naive Cytotoxic  CD8+/CD45RA+ Naive Cytotoxic  \n",
                            "6854  6.236199e-41                      CD56+ NK                      CD56+ NK  \n",
                            "6855  1.897661e-10              CD8+ Cytotoxic T              CD8+ Cytotoxic T  \n",
                            "6856  8.262421e-06  CD8+/CD45RA+ Naive Cytotoxic  CD8+/CD45RA+ Naive Cytotoxic  \n",
                            "6857  4.570187e-08              CD8+ Cytotoxic T              CD8+ Cytotoxic T  \n",
                            "\n",
                            "[6858 rows x 13 columns]"
                        ]
                    },
                    "execution_count": 7,
                    "metadata": {},
                    "output_type": "execute_result"
                }
            ],
            "source": [
                "scores"
            ]
        },
        {
            "cell_type": "markdown",
            "metadata": {},
            "source": [
                "Save scores for ROC analysis.\n",
                "\n",
                "```python\n",
                "scores.to_csv('pbmc68k_scc2_pred_scores.txt', index=False)\n",
                "```"
            ]
        },
        {
            "cell_type": "markdown",
            "metadata": {},
            "source": [
                "Performance assessment"
            ]
        },
        {
            "cell_type": "code",
            "execution_count": 8,
            "metadata": {},
            "outputs": [
                {
                    "data": {
                        "text/plain": [
                            "0.868183143773695"
                        ]
                    },
                    "execution_count": 8,
                    "metadata": {},
                    "output_type": "execute_result"
                }
            ],
            "source": [
                "accuracy_score(actuals, predictions)"
            ]
        },
        {
            "cell_type": "code",
            "execution_count": 9,
            "metadata": {},
            "outputs": [
                {
                    "data": {
                        "text/plain": [
                            "<sklearn.metrics._plot.confusion_matrix.ConfusionMatrixDisplay at 0x7fa5b069c850>"
                        ]
                    },
                    "execution_count": 9,
                    "metadata": {},
                    "output_type": "execute_result"
                },
                {
                    "data": {
                        "image/png": "[encoded data removed]",
                        "text/plain": [
                            "<Figure size 1440x720 with 2 Axes>"
                        ]
                    },
                    "metadata": {
                        "needs_background": "light"
                    },
                    "output_type": "display_data"
                }
            ],
            "source": [
                "ConfusionMatrixDisplay.from_predictions(actuals, predictions, xticks_rotation='vertical')"
            ]
        }
    ],
    "metadata": {
        "interpreter": {
            "hash": "b75a23af27c7263a65a2c6440fe09f911d828fad57d591dd9453233f72d36440"
        },
        "kernelspec": {
            "display_name": "Python 3.9.7 64-bit ('pyro': conda)",
            "name": "python3"
        },
        "language_info": {
            "codemirror_mode": {
                "name": "ipython",
                "version": 3
            },
            "file_extension": ".py",
            "mimetype": "text/x-python",
            "name": "python",
            "nbconvert_exporter": "python",
            "pygments_lexer": "ipython3",
            "version": "3.9.7"
        },
        "orig_nbformat": 4
    },
    "nbformat": 4,
    "nbformat_minor": 2
}
