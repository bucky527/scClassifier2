{
    "cells": [
        {
            "cell_type": "markdown",
            "metadata": {},
            "source": [
                "# Demo: PBMC68k dataset\n",
                "\n",
                "The demo shows the usage of scClassifier2.\n",
                "\n",
                "The PBMC68k dataset can be downloaded from the 10x Genomics website."
            ]
        },
        {
            "cell_type": "markdown",
            "metadata": {},
            "source": [
                "## Train scClassifier2\n",
                "\n",
                "The PBMC68k dataset is divided into two the train subset and the test subset. Run scClassifier2 on the training data to get the classification model."
            ]
        },
        {
            "cell_type": "markdown",
            "metadata": {},
            "source": [
                "The command to run the training process is as follows.\n",
                "\n",
                "``` shell\n",
                "python scClassifier2.py --sup-data-file /DATA2/Project/MICE_evaluation/data/PBMC68k/pbmc68k_dataset_roc_train.mtx \\\n",
                "                        --sup-label-file /DATA2/Project/MICE_evaluation/data/PBMC68k/pbmc68k_dataset_label_text_roc_train.txt \\\n",
                "                        -lr 0.0001 \\\n",
                "                        -n 30 \\\n",
                "                        -bs 100 \\\n",
                "                        --aux-loss \\\n",
                "                        --cross-validation-fold 10 \\\n",
                "                        --cuda \\\n",
                "                        --runtime \\\n",
                "                        --jit \\\n",
                "                        --best-valid-model pbmc68k_model.pth                 \n",
                "```"
            ]
        },
        {
            "cell_type": "markdown",
            "metadata": {},
            "source": [
                "## Test scClassifier2"
            ]
        },
        {
            "cell_type": "code",
            "execution_count": 29,
            "metadata": {},
            "outputs": [],
            "source": [
                "%matplotlib inline\n",
                "import matplotlib.pyplot as plt\n",
                "plt.rcParams[\"figure.figsize\"] = (20, 10)\n",
                "\n",
                "\n",
                "import numpy as np\n",
                "import pandas as pd\n",
                "from sklearn.metrics import accuracy_score, ConfusionMatrixDisplay\n",
                "\n",
                "from scClassifier2 import scClassifier2\n",
                "from utils.scdata_cached import SingleCellCached\n",
                "\n",
                "import torch\n",
                "from torch.utils.data import DataLoader"
            ]
        },
        {
            "cell_type": "markdown",
            "metadata": {},
            "source": [
                "## Load model and test datset"
            ]
        },
        {
            "cell_type": "code",
            "execution_count": 30,
            "metadata": {},
            "outputs": [],
            "source": [
                "ModelPath = 'pbmc68k_model.pth'\n",
                "DataPath='/DATA2/Project/MICE_evaluation/data/PBMC68k/pbmc68k_dataset_roc_test.mtx'\n",
                "LabelPath='/DATA2/Project/MICE_evaluation/data/PBMC68k/pbmc68k_dataset_label_text_roc_test.txt'"
            ]
        },
        {
            "cell_type": "code",
            "execution_count": 31,
            "metadata": {},
            "outputs": [],
            "source": [
                "# load model\n",
                "model = torch.load(ModelPath)"
            ]
        },
        {
            "cell_type": "code",
            "execution_count": 32,
            "metadata": {},
            "outputs": [],
            "source": [
                "# load data\n",
                "batch_size = 100\n",
                "\n",
                "# Apply log-transformation on data or not.\n",
                "# If count data is provided, log-transformation\n",
                "# should be used. \n",
                "log_trans = False\n",
                "\n",
                "# Put data on cuda or not.\n",
                "use_cuda = True\n",
                "\n",
                "# Randomly permute data or not.\n",
                "shuffle = False\n",
                "\n",
                "label_encoder = model.label2class\n",
                "data_cached = SingleCellCached(DataPath, LabelPath, label_encoder, 'roc', log_trans = log_trans, use_cuda = use_cuda)\n",
                "data_loader = DataLoader(data_cached, batch_size = batch_size, shuffle = shuffle)\n"
            ]
        },
        {
            "cell_type": "markdown",
            "metadata": {},
            "source": [
                "## Run prediction on the test data"
            ]
        },
        {
            "cell_type": "code",
            "execution_count": 33,
            "metadata": {},
            "outputs": [],
            "source": [
                "# predict\n",
                "predictions, scores, actuals = [], [], []\n",
                "\n",
                "# use the appropriate data loader\n",
                "for (xs, ys) in data_loader:\n",
                "    # use classification function to compute all predictions for each batch\n",
                "    yhats, yscores = model.classifier_with_probability(xs)\n",
                "    scores.append(yscores)\n",
                "\n",
                "    _, yhats = torch.topk(yhats, 1)\n",
                "    yhats = model.convert_to_label(yhats)\n",
                "    predictions.append(yhats)\n",
                "\n",
                "    _, ys = torch.topk(ys, 1)\n",
                "    ys = model.convert_to_label(ys)\n",
                "    actuals.append(ys)\n",
                "\n",
                "predictions = np.concatenate(predictions, 0)\n",
                "scores = torch.cat(scores, dim=0).cpu().detach().numpy()\n",
                "actuals = np.concatenate(actuals, 0)"
            ]
        },
        {
            "cell_type": "markdown",
            "metadata": {},
            "source": [
                "Save the classification scores for plotting ROC curves."
            ]
        },
        {
            "cell_type": "code",
            "execution_count": null,
            "metadata": {},
            "outputs": [],
            "source": [
                "scores = pd.DataFrame(scores)\n",
                "scores.columns = model.convert_to_label(torch.from_numpy(np.arange(model.output_size)))\n",
                "\n",
                "scores['True'] = actuals\n",
                "scores['Pred'] = predictions"
            ]
        },
        {
            "cell_type": "code",
            "execution_count": null,
            "metadata": {},
            "outputs": [],
            "source": [
                "scores"
            ]
        },
        {
            "cell_type": "markdown",
            "metadata": {},
            "source": [
                "Save scores for ROC analysis.\n",
                "\n",
                "```python\n",
                "scores.to_csv('pbmc68k_scc2_pred_scores.txt', index=False)\n",
                "```"
            ]
        },
        {
            "cell_type": "markdown",
            "metadata": {},
            "source": [
                "Performance assessment"
            ]
        },
        {
            "cell_type": "code",
            "execution_count": null,
            "metadata": {},
            "outputs": [],
            "source": [
                "accuracy_score(actuals, predictions)"
            ]
        },
        {
            "cell_type": "code",
            "execution_count": null,
            "metadata": {},
            "outputs": [],
            "source": [
                "ConfusionMatrixDisplay.from_predictions(actuals, predictions, xticks_rotation='vertical')"
            ]
        }
    ],
    "metadata": {
        "interpreter": {
            "hash": "d31ccb2a2d8da389e67a606f835554126d4ea816879131045ccd78ebb06992eb"
        },
        "kernelspec": {
            "display_name": "Python 3.9.7 64-bit ('pyro': conda)",
            "name": "python3"
        },
        "language_info": {
            "codemirror_mode": {
                "name": "ipython",
                "version": 3
            },
            "file_extension": ".py",
            "mimetype": "text/x-python",
            "name": "python",
            "nbconvert_exporter": "python",
            "pygments_lexer": "ipython3",
            "version": "3.9.7"
        },
        "orig_nbformat": 4
    },
    "nbformat": 4,
    "nbformat_minor": 2
}
